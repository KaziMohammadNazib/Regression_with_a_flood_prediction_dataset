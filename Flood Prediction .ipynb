{
 "cells": [
  {
   "cell_type": "code",
   "execution_count": 25,
   "id": "bb2dcaf2",
   "metadata": {},
   "outputs": [],
   "source": [
    "import numpy as np\n",
    "import pandas as pd\n",
    "import matplotlib.pyplot as plt\n",
    "from sklearn.linear_model import LinearRegression\n",
    "from sklearn.preprocessing import StandardScaler\n",
    "from sklearn.model_selection import train_test_split\n",
    "from sklearn.metrics import mean_squared_error\n"
   ]
  },
  {
   "cell_type": "code",
   "execution_count": 26,
   "id": "a8a40aa8",
   "metadata": {},
   "outputs": [],
   "source": [
    "df_train = pd.read_csv('train.csv')\n",
    "df_test = pd.read_csv('test.csv')\n",
    "df_SS = pd.read_csv('sample_submission.csv')"
   ]
  },
  {
   "cell_type": "code",
   "execution_count": 27,
   "id": "ab0f5e79",
   "metadata": {},
   "outputs": [],
   "source": [
    "df_train.dropna(inplace=True)\n",
    "df_train = pd.get_dummies(df_train)\n",
    "df_test.dropna(inplace=True)\n",
    "df_test = pd.get_dummies(df_test)"
   ]
  },
  {
   "cell_type": "code",
   "execution_count": 28,
   "id": "29132a8b",
   "metadata": {},
   "outputs": [],
   "source": [
    "X_features= df_train.columns.to_numpy()\n",
    "TGC = X_features[1:21]\n",
    "X_features2 = df_test.columns.to_numpy()\n",
    "TGC2 = X_features2[1:21]"
   ]
  },
  {
   "cell_type": "code",
   "execution_count": 29,
   "id": "3f280263",
   "metadata": {},
   "outputs": [],
   "source": [
    "#X = df_train.drop(TGC, axis=1)\n",
    "X=df_train[TGC]\n",
    "y = df_train['FloodProbability']\n",
    "X_train, X_test, y_train, y_test = train_test_split(X, y, test_size=0.2)\n",
    "#X_test = df_test.drop(TGC1, axis=1)\n",
    "#X_new=df_test(TGC2, axis=1)\n",
    "X_new = df_test[TGC2]"
   ]
  },
  {
   "cell_type": "code",
   "execution_count": 33,
   "id": "0620fb3e",
   "metadata": {},
   "outputs": [],
   "source": [
    "scaler = StandardScaler()\n",
    "X_train_scaled = scaler.fit_transform(X_train)\n",
    "X_norm = scaler.fit_transform(X_train)\n",
    "X_test_scaled = scaler.transform(X_test)\n",
    "X_new_scaled= scaler.fit_transform(X_new)"
   ]
  },
  {
   "cell_type": "code",
   "execution_count": 34,
   "id": "df5202d2",
   "metadata": {},
   "outputs": [
    {
     "data": {
      "text/plain": [
       "LinearRegression()"
      ]
     },
     "execution_count": 34,
     "metadata": {},
     "output_type": "execute_result"
    }
   ],
   "source": [
    "lr_model = LinearRegression()\n",
    "lr_model.fit(X_train_scaled, y_train)"
   ]
  },
  {
   "cell_type": "code",
   "execution_count": 35,
   "id": "8efc5ad2",
   "metadata": {},
   "outputs": [
    {
     "name": "stdout",
     "output_type": "stream",
     "text": [
      "Mean Squared Error: 0.0004029842922712043\n"
     ]
    }
   ],
   "source": [
    "y_pred = lr_model.predict(X_test_scaled)\n",
    "mse = mean_squared_error(y_test, y_pred)\n",
    "print(\"Mean Squared Error:\", mse)"
   ]
  },
  {
   "cell_type": "code",
   "execution_count": 36,
   "id": "599647f9",
   "metadata": {},
   "outputs": [
    {
     "name": "stdout",
     "output_type": "stream",
     "text": [
      "R-squared: 0.844978582903995\n"
     ]
    }
   ],
   "source": [
    "from sklearn.metrics import r2_score\n",
    "\n",
    "# Calculate R-squared (coefficient of determination) to measure model performance\n",
    "r2 = r2_score(y_test, y_pred)\n",
    "print(\"R-squared:\", r2)\n"
   ]
  },
  {
   "cell_type": "code",
   "execution_count": 37,
   "id": "92c37190",
   "metadata": {},
   "outputs": [
    {
     "data": {
      "image/png": "[encoded data removed]",
      "text/plain": [
       "<Figure size 432x288 with 1 Axes>"
      ]
     },
     "metadata": {
      "needs_background": "light"
     },
     "output_type": "display_data"
    }
   ],
   "source": [
    "import matplotlib.pyplot as plt\n",
    "\n",
    "# Plot actual vs. predicted values\n",
    "plt.scatter(y_test, y_pred)\n",
    "plt.xlabel(\"Actual\")\n",
    "plt.ylabel(\"Predicted\")\n",
    "plt.title(\"Actual vs. Predicted Values\")\n",
    "plt.show()\n"
   ]
  },
  {
   "cell_type": "code",
   "execution_count": 38,
   "id": "3c23d5e7",
   "metadata": {},
   "outputs": [],
   "source": [
    "y_pred2 = lr_model.predict(X_new_scaled)"
   ]
  },
  {
   "cell_type": "code",
   "execution_count": 39,
   "id": "22ae7679",
   "metadata": {},
   "outputs": [],
   "source": [
    "nn=y_pred2.shape[0]\n",
    "ar=np.arange(0, nn)\n",
    "sam_sub=np.column_stack((ar, y_pred2))"
   ]
  },
  {
   "cell_type": "code",
   "execution_count": 40,
   "id": "0d8f006d",
   "metadata": {},
   "outputs": [
    {
     "name": "stdout",
     "output_type": "stream",
     "text": [
      "[[0.00000000e+00 5.73415126e-01]\n",
      " [1.00000000e+00 4.55133922e-01]\n",
      " [2.00000000e+00 4.54661730e-01]\n",
      " ...\n",
      " [7.45302000e+05 6.24135904e-01]\n",
      " [7.45303000e+05 5.50831894e-01]\n",
      " [7.45304000e+05 5.11361540e-01]]\n"
     ]
    }
   ],
   "source": [
    "print(sam_sub)"
   ]
  },
  {
   "cell_type": "code",
   "execution_count": 41,
   "id": "1a8db8ec",
   "metadata": {},
   "outputs": [],
   "source": [
    "#sam_sub_df= pd.DataFrame(sam_sub, columns=['ID', 'FloodProbability'])\n",
    "#sam_sub_df.to_csv('sam_sub.csv', index=False)\n",
    "\n",
    "#print(\"CSV file created successfully!\")"
   ]
  },
  {
   "cell_type": "code",
   "execution_count": 42,
   "id": "2bfdf4f3",
   "metadata": {},
   "outputs": [],
   "source": [
    "tera=np.column_stack((df_test['id'], y_pred2))"
   ]
  },
  {
   "cell_type": "code",
   "execution_count": 43,
   "id": "b9faa887",
   "metadata": {},
   "outputs": [
    {
     "name": "stdout",
     "output_type": "stream",
     "text": [
      "[[1.11795700e+06 5.73415126e-01]\n",
      " [1.11795800e+06 4.55133922e-01]\n",
      " [1.11795900e+06 4.54661730e-01]\n",
      " ...\n",
      " [1.86325900e+06 6.24135904e-01]\n",
      " [1.86326000e+06 5.50831894e-01]\n",
      " [1.86326100e+06 5.11361540e-01]]\n"
     ]
    }
   ],
   "source": [
    "print(tera)"
   ]
  },
  {
   "cell_type": "code",
   "execution_count": null,
   "id": "ec51b8b5",
   "metadata": {},
   "outputs": [],
   "source": []
  }
 ],
 "metadata": {
  "kernelspec": {
   "display_name": "Python 3 (ipykernel)",
   "language": "python",
   "name": "python3"
  },
  "language_info": {
   "codemirror_mode": {
    "name": "ipython",
    "version": 3
   },
   "file_extension": ".py",
   "mimetype": "text/x-python",
   "name": "python",
   "nbconvert_exporter": "python",
   "pygments_lexer": "ipython3",
   "version": "3.9.12"
  }
 },
 "nbformat": 4,
 "nbformat_minor": 5
}
